{
  "nbformat": 4,
  "nbformat_minor": 0,
  "metadata": {
    "colab": {
      "provenance": [],
      "mount_file_id": "1LveqtgmJJS-sAoiW2xNVMEKWogRDbuvy",
      "authorship_tag": "ABX9TyOqOtJLy4D86ZTYcu9TBiNn",
      "include_colab_link": true
    },
    "kernelspec": {
      "name": "python3",
      "display_name": "Python 3"
    },
    "language_info": {
      "name": "python"
    }
  },
  "cells": [
    {
      "cell_type": "markdown",
      "metadata": {
        "id": "view-in-github",
        "colab_type": "text"
      },
      "source": [
        "<a href=\"https://colab.research.google.com/github/Anjali-Narwaria/Cleaned-dataset-Task1-/blob/main/Task_1.ipynb\" target=\"_parent\"><img src=\"https://colab.research.google.com/assets/colab-badge.svg\" alt=\"Open In Colab\"/></a>"
      ]
    },
    {
      "cell_type": "code",
      "execution_count": 16,
      "metadata": {
        "id": "NyrsY1U04-ck"
      },
      "outputs": [],
      "source": [
        "#Load the Dataset with Pandas\n",
        "import pandas as pd\n",
        "df = pd.read_csv('/content/drive/MyDrive/amazon.csv')"
      ]
    },
    {
      "cell_type": "code",
      "source": [
        "# Identify and handle missing values\n",
        "print(\"Missing values before handling:\")\n",
        "print(df.isnull().sum())  # Count missing values per column\n",
        "\n",
        "# For demonstration, let's fill numerical missing values with the mean and categorical with the mode\n",
        "for column in df.columns:\n",
        "    if df[column].dtype == 'object':\n",
        "        # Fill missing object type with mode\n",
        "        mode_value = df[column].mode()[0] if not df[column].mode().empty else 'Unknown'\n",
        "        df[column].fillna(mode_value, inplace=True)\n",
        "    elif df[column].dtype in ['int64', 'float64']:\n",
        "        # Fill missing numerical with mean\n",
        "        df[column].fillna(df[column].mean(), inplace=True)\n",
        "\n",
        "print(\"\\nMissing values after handling:\")\n",
        "print(df.isnull().sum())"
      ],
      "metadata": {
        "colab": {
          "base_uri": "https://localhost:8080/"
        },
        "id": "Xi2UYVqw1UKN",
        "outputId": "0a819ce9-7e65-4841-bcd7-0b02aab5f549"
      },
      "execution_count": 39,
      "outputs": [
        {
          "output_type": "stream",
          "name": "stdout",
          "text": [
            "Missing values before handling:\n",
            "product_id             0\n",
            "product_name           0\n",
            "category               0\n",
            "discounted_price       0\n",
            "actual_price           0\n",
            "discount_percentage    0\n",
            "rating                 0\n",
            "rating_count           0\n",
            "about_product          0\n",
            "user_id                0\n",
            "user_name              0\n",
            "review_id              0\n",
            "review_title           0\n",
            "review_content         0\n",
            "img_link               0\n",
            "product_link           0\n",
            "dtype: int64\n",
            "\n",
            "Missing values after handling:\n",
            "product_id             0\n",
            "product_name           0\n",
            "category               0\n",
            "discounted_price       0\n",
            "actual_price           0\n",
            "discount_percentage    0\n",
            "rating                 0\n",
            "rating_count           0\n",
            "about_product          0\n",
            "user_id                0\n",
            "user_name              0\n",
            "review_id              0\n",
            "review_title           0\n",
            "review_content         0\n",
            "img_link               0\n",
            "product_link           0\n",
            "dtype: int64\n"
          ]
        },
        {
          "output_type": "stream",
          "name": "stderr",
          "text": [
            "/tmp/ipython-input-163396517.py:10: FutureWarning: A value is trying to be set on a copy of a DataFrame or Series through chained assignment using an inplace method.\n",
            "The behavior will change in pandas 3.0. This inplace method will never work because the intermediate object on which we are setting values always behaves as a copy.\n",
            "\n",
            "For example, when doing 'df[col].method(value, inplace=True)', try using 'df.method({col: value}, inplace=True)' or df[col] = df[col].method(value) instead, to perform the operation inplace on the original object.\n",
            "\n",
            "\n",
            "  df[column].fillna(mode_value, inplace=True)\n",
            "/tmp/ipython-input-163396517.py:13: FutureWarning: A value is trying to be set on a copy of a DataFrame or Series through chained assignment using an inplace method.\n",
            "The behavior will change in pandas 3.0. This inplace method will never work because the intermediate object on which we are setting values always behaves as a copy.\n",
            "\n",
            "For example, when doing 'df[col].method(value, inplace=True)', try using 'df.method({col: value}, inplace=True)' or df[col] = df[col].method(value) instead, to perform the operation inplace on the original object.\n",
            "\n",
            "\n",
            "  df[column].fillna(df[column].mean(), inplace=True)\n"
          ]
        }
      ]
    },
    {
      "cell_type": "code",
      "source": [
        "# Remove duplicate rows\n",
        "initial_rows = len(df)\n",
        "df = df.drop_duplicates()\n",
        "rows_after_dropping_duplicates = len(df)\n",
        "print(f\"\\nRemoved {initial_rows - rows_after_dropping_duplicates} duplicate rows.\")\n"
      ],
      "metadata": {
        "colab": {
          "base_uri": "https://localhost:8080/"
        },
        "id": "IH_01jIU1bKw",
        "outputId": "9f8db173-e071-4311-c5ba-3e859128eb2c"
      },
      "execution_count": 40,
      "outputs": [
        {
          "output_type": "stream",
          "name": "stdout",
          "text": [
            "\n",
            "Removed 0 duplicate rows.\n"
          ]
        }
      ]
    },
    {
      "cell_type": "code",
      "source": [
        "# Standardize text values (example for 'category' and 'product_name')\n",
        "for col in ['category', 'product_name']:\n",
        "    if col in df.columns and df[col].dtype == 'object':\n",
        "        df[col] = df[col].str.strip().str.lower()\n",
        "        print(f\"\\nStandardized text in column: {col}\")"
      ],
      "metadata": {
        "colab": {
          "base_uri": "https://localhost:8080/"
        },
        "id": "p3OUxWyk6r8o",
        "outputId": "4dc07c71-5998-4674-ac9a-1f6a23fc5601"
      },
      "execution_count": 41,
      "outputs": [
        {
          "output_type": "stream",
          "name": "stdout",
          "text": [
            "\n",
            "Standardized text in column: category\n",
            "\n",
            "Standardized text in column: product_name\n"
          ]
        }
      ]
    },
    {
      "cell_type": "code",
      "source": [
        "# Rename column headers to be clean and uniform (lowercase and underscores, no spaces)\n",
        "df.columns = df.columns.str.strip().str.lower().str.replace(' ', '_')\n",
        "print(\"\\nCleaned column headers.\")"
      ],
      "metadata": {
        "colab": {
          "base_uri": "https://localhost:8080/"
        },
        "id": "J4IoiT2R64t1",
        "outputId": "e4ce6619-5a50-4756-c890-974145a99f1e"
      },
      "execution_count": 44,
      "outputs": [
        {
          "output_type": "stream",
          "name": "stdout",
          "text": [
            "\n",
            "Cleaned column headers.\n"
          ]
        }
      ]
    },
    {
      "cell_type": "code",
      "source": [
        "# Check and fix data types\n",
        "print(\"\\nData types before fixing:\")\n",
        "print(df.dtypes)\n",
        "\n",
        "\n",
        "# Example for potential price columns:\n",
        "for col in ['discounted_price', 'actual_price']:\n",
        "    if col in df.columns and df[col].dtype == 'object':\n",
        "        # Remove currency symbols and commas, then convert to numeric\n",
        "        df[col] = df[col].astype(str).str.replace('₹', '').str.replace(',', '')\n",
        "        df[col] = pd.to_numeric(df[col], errors='coerce')\n",
        "        print(f\"Converted '{col}' to numeric.\")\n",
        "\n",
        "# Example for potential rating column:\n",
        "if 'rating' in df.columns and df['rating'].dtype == 'object':\n",
        "    # Convert rating to numeric, coercing errors will turn non-numeric into NaN\n",
        "    df['rating'] = pd.to_numeric(df['rating'], errors='coerce')\n",
        "    print(\"Converted 'rating' to numeric.\")\n",
        "\n",
        "print(\"\\nData types after fixing:\")\n",
        "print(df.dtypes)\n",
        "\n",
        "# View cleaned dataframe info\n",
        "print(\"\\nCleaned DataFrame Info:\")\n",
        "print(df.info())"
      ],
      "metadata": {
        "colab": {
          "base_uri": "https://localhost:8080/"
        },
        "id": "hZ1nSMqY69im",
        "outputId": "9590823f-17dd-42e8-ecfe-382abb42c78c"
      },
      "execution_count": 47,
      "outputs": [
        {
          "output_type": "stream",
          "name": "stdout",
          "text": [
            "\n",
            "Data types before fixing:\n",
            "product_id              object\n",
            "product_name            object\n",
            "category                object\n",
            "discounted_price       float64\n",
            "actual_price           float64\n",
            "discount_percentage     object\n",
            "rating                 float64\n",
            "rating_count            object\n",
            "about_product           object\n",
            "user_id                 object\n",
            "user_name               object\n",
            "review_id               object\n",
            "review_title            object\n",
            "review_content          object\n",
            "img_link                object\n",
            "product_link            object\n",
            "dtype: object\n",
            "\n",
            "Data types after fixing:\n",
            "product_id              object\n",
            "product_name            object\n",
            "category                object\n",
            "discounted_price       float64\n",
            "actual_price           float64\n",
            "discount_percentage     object\n",
            "rating                 float64\n",
            "rating_count            object\n",
            "about_product           object\n",
            "user_id                 object\n",
            "user_name               object\n",
            "review_id               object\n",
            "review_title            object\n",
            "review_content          object\n",
            "img_link                object\n",
            "product_link            object\n",
            "dtype: object\n",
            "\n",
            "Cleaned DataFrame Info:\n",
            "<class 'pandas.core.frame.DataFrame'>\n",
            "RangeIndex: 1465 entries, 0 to 1464\n",
            "Data columns (total 16 columns):\n",
            " #   Column               Non-Null Count  Dtype  \n",
            "---  ------               --------------  -----  \n",
            " 0   product_id           1465 non-null   object \n",
            " 1   product_name         1465 non-null   object \n",
            " 2   category             1465 non-null   object \n",
            " 3   discounted_price     1465 non-null   float64\n",
            " 4   actual_price         1465 non-null   float64\n",
            " 5   discount_percentage  1465 non-null   object \n",
            " 6   rating               1465 non-null   float64\n",
            " 7   rating_count         1465 non-null   object \n",
            " 8   about_product        1465 non-null   object \n",
            " 9   user_id              1465 non-null   object \n",
            " 10  user_name            1465 non-null   object \n",
            " 11  review_id            1465 non-null   object \n",
            " 12  review_title         1465 non-null   object \n",
            " 13  review_content       1465 non-null   object \n",
            " 14  img_link             1465 non-null   object \n",
            " 15  product_link         1465 non-null   object \n",
            "dtypes: float64(3), object(13)\n",
            "memory usage: 183.3+ KB\n",
            "None\n"
          ]
        }
      ]
    },
    {
      "cell_type": "markdown",
      "source": [
        "# **Summary**\n",
        "I cleaned the Amazon Sales Dataset by filling missing numbers with averages and categorical data with the most common values, so nothing important was lost. Duplicate rows were removed to keep the data accurate. I also made sure text columns like 'category' and 'product_name' were consistent by trimming spaces and using lowercase. The column headers were cleaned up to be lowercase with underscores for easier coding. Key numeric fields like prices and ratings were carefully converted to proper types. Along the way, I fixed minor coding mistakes.\n",
        "\n",
        "This made the dataset neat, organized, and ready for meaningful analysis."
      ],
      "metadata": {
        "id": "Ek_apLPC9YfN"
      }
    }
  ]
}